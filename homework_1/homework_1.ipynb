{
 "cells": [
  {
   "cell_type": "code",
   "execution_count": 251,
   "metadata": {},
   "outputs": [],
   "source": [
    "import pyreadr\n",
    "import pandas as pd\n",
    "import numpy as np\n",
    "from scipy.spatial.distance import pdist, squareform\n",
    "import matplotlib.pyplot as plt\n",
    "import seaborn as sns\n",
    "\n",
    "from sklearn.cluster import AgglomerativeClustering\n",
    "from scipy.cluster.hierarchy import (dendrogram, cut_tree, linkage)"
   ]
  },
  {
   "cell_type": "code",
   "execution_count": 357,
   "metadata": {},
   "outputs": [],
   "source": [
    "def plot_dendrogram(model,filename, **kwargs):\n",
    "    # Create linkage matrix and then plot the dendrogram\n",
    "\n",
    "    # create the counts of samples under each node\n",
    "    counts = np.zeros(model.children_.shape[0])\n",
    "    n_samples = len(model.labels_)\n",
    "    for i, merge in enumerate(model.children_):\n",
    "        current_count = 0\n",
    "        for child_idx in merge:\n",
    "            if child_idx < n_samples:\n",
    "                current_count += 1  # leaf node\n",
    "            else:\n",
    "                current_count += counts[child_idx - n_samples]\n",
    "        counts[i] = current_count\n",
    "\n",
    "    linkage_matrix = np.column_stack(\n",
    "        [model.children_, model.distances_, counts]\n",
    "    ).astype(float)\n",
    "\n",
    "    # Plot the corresponding dendrogram\n",
    "    dendrogram(linkage_matrix, **kwargs)\n",
    "    plt.ylabel('Height')\n",
    "    plt.xticks(rotation=45)\n",
    "    plt.savefig('plots/{}.png'.format(filename),bbox_inches='tight')\n",
    "\n",
    "def compute_linkage(hclust):\n",
    "    \"\"\"\n",
    "\n",
    "    Create linkage matrix used to plot a dendrogram\n",
    "\n",
    "    Follows [sklearn example](https://scikit-learn.org/stable/auto_examples/cluster/plot_agglomerative_dendrogram.html)\n",
    "\n",
    "    Parameters\n",
    "    ----------\n",
    "\n",
    "    hclust : `sklearn.cluster.AgglomerativeClustering`\n",
    "        Fitted hierarchical clustering object.\n",
    "\n",
    "    Returns\n",
    "    -------\n",
    "\n",
    "    linkage_matrix : np.ndarray\n",
    "        Array to be passed to `dendrogram` from `scipy.cluster.hierarchy`.\n",
    "\n",
    "    \"\"\"\n",
    "    \n",
    "    counts = np.zeros(hclust.children_.shape[0])\n",
    "    n_samples = len(hclust.labels_)\n",
    "    for i, merge in enumerate(hclust.children_):\n",
    "        current_count = 0\n",
    "        for child_idx in merge:\n",
    "            if child_idx < n_samples:\n",
    "                current_count += 1  # leaf node\n",
    "            else:\n",
    "                current_count += counts[child_idx - n_samples]\n",
    "        counts[i] = current_count\n",
    "\n",
    "    linkage_matrix = np.column_stack([hclust.children_, hclust.distances_,\n",
    "                                      counts]).astype(float)\n",
    "    return linkage_matrix"
   ]
  },
  {
   "cell_type": "markdown",
   "metadata": {},
   "source": [
    "# Problem 1"
   ]
  },
  {
   "cell_type": "code",
   "execution_count": 2,
   "metadata": {},
   "outputs": [],
   "source": [
    "problem_1_data = pyreadr.read_r('data/hw1prob1.Rdata')"
   ]
  },
  {
   "cell_type": "code",
   "execution_count": 59,
   "metadata": {},
   "outputs": [],
   "source": [
    "for value in problem_1_data.values():\n",
    "    problem_1_df = pd.DataFrame(value)\n"
   ]
  },
  {
   "cell_type": "code",
   "execution_count": 19,
   "metadata": {},
   "outputs": [
    {
     "data": {
      "text/plain": [
       "Index(['abandoned', 'abbeville', 'abbey', 'abbracciava', 'abilities',\n",
       "       'ability', 'able', 'abode', 'about', 'above',\n",
       "       ...\n",
       "       'தமிழ்', 'తెలుగు', 'ಕನ್ನಡ', 'മലയാളം', 'සිංහල', 'ไทย', 'བོདཡིག',\n",
       "       'မြန်မာဘာသာ', '한국어', '日本語'],\n",
       "      dtype='object', length=6820)"
      ]
     },
     "execution_count": 19,
     "metadata": {},
     "output_type": "execute_result"
    }
   ],
   "source": [
    "problem_1_df.columns"
   ]
  },
  {
   "cell_type": "code",
   "execution_count": 60,
   "metadata": {},
   "outputs": [
    {
     "data": {
      "text/html": [
       "<div>\n",
       "<style scoped>\n",
       "    .dataframe tbody tr th:only-of-type {\n",
       "        vertical-align: middle;\n",
       "    }\n",
       "\n",
       "    .dataframe tbody tr th {\n",
       "        vertical-align: top;\n",
       "    }\n",
       "\n",
       "    .dataframe thead th {\n",
       "        text-align: right;\n",
       "    }\n",
       "</style>\n",
       "<table border=\"1\" class=\"dataframe\">\n",
       "  <thead>\n",
       "    <tr style=\"text-align: right;\">\n",
       "      <th></th>\n",
       "      <th>abandoned</th>\n",
       "      <th>abbeville</th>\n",
       "      <th>abbey</th>\n",
       "      <th>abbracciava</th>\n",
       "      <th>abilities</th>\n",
       "      <th>ability</th>\n",
       "      <th>able</th>\n",
       "      <th>abode</th>\n",
       "      <th>about</th>\n",
       "      <th>above</th>\n",
       "      <th>...</th>\n",
       "      <th>தமிழ்</th>\n",
       "      <th>తెలుగు</th>\n",
       "      <th>ಕನ್ನಡ</th>\n",
       "      <th>മലയാളം</th>\n",
       "      <th>සිංහල</th>\n",
       "      <th>ไทย</th>\n",
       "      <th>བོདཡིག</th>\n",
       "      <th>မြန်မာဘာသာ</th>\n",
       "      <th>한국어</th>\n",
       "      <th>日本語</th>\n",
       "    </tr>\n",
       "  </thead>\n",
       "  <tbody>\n",
       "    <tr>\n",
       "      <th>tmnt leo</th>\n",
       "      <td>1.0</td>\n",
       "      <td>0.0</td>\n",
       "      <td>0.0</td>\n",
       "      <td>0.0</td>\n",
       "      <td>2.0</td>\n",
       "      <td>0.0</td>\n",
       "      <td>0.0</td>\n",
       "      <td>0.0</td>\n",
       "      <td>5.0</td>\n",
       "      <td>1.0</td>\n",
       "      <td>...</td>\n",
       "      <td>0.0</td>\n",
       "      <td>0.0</td>\n",
       "      <td>0.0</td>\n",
       "      <td>0.0</td>\n",
       "      <td>0.0</td>\n",
       "      <td>0.0</td>\n",
       "      <td>0.0</td>\n",
       "      <td>0.0</td>\n",
       "      <td>1.0</td>\n",
       "      <td>0.0</td>\n",
       "    </tr>\n",
       "    <tr>\n",
       "      <th>tmnt raph</th>\n",
       "      <td>0.0</td>\n",
       "      <td>0.0</td>\n",
       "      <td>1.0</td>\n",
       "      <td>0.0</td>\n",
       "      <td>1.0</td>\n",
       "      <td>0.0</td>\n",
       "      <td>0.0</td>\n",
       "      <td>0.0</td>\n",
       "      <td>3.0</td>\n",
       "      <td>0.0</td>\n",
       "      <td>...</td>\n",
       "      <td>0.0</td>\n",
       "      <td>0.0</td>\n",
       "      <td>0.0</td>\n",
       "      <td>0.0</td>\n",
       "      <td>0.0</td>\n",
       "      <td>0.0</td>\n",
       "      <td>0.0</td>\n",
       "      <td>0.0</td>\n",
       "      <td>0.0</td>\n",
       "      <td>0.0</td>\n",
       "    </tr>\n",
       "    <tr>\n",
       "      <th>tmnt mike</th>\n",
       "      <td>0.0</td>\n",
       "      <td>0.0</td>\n",
       "      <td>0.0</td>\n",
       "      <td>0.0</td>\n",
       "      <td>2.0</td>\n",
       "      <td>1.0</td>\n",
       "      <td>1.0</td>\n",
       "      <td>1.0</td>\n",
       "      <td>4.0</td>\n",
       "      <td>0.0</td>\n",
       "      <td>...</td>\n",
       "      <td>0.0</td>\n",
       "      <td>0.0</td>\n",
       "      <td>0.0</td>\n",
       "      <td>0.0</td>\n",
       "      <td>0.0</td>\n",
       "      <td>0.0</td>\n",
       "      <td>0.0</td>\n",
       "      <td>0.0</td>\n",
       "      <td>1.0</td>\n",
       "      <td>0.0</td>\n",
       "    </tr>\n",
       "    <tr>\n",
       "      <th>tmnt don</th>\n",
       "      <td>0.0</td>\n",
       "      <td>0.0</td>\n",
       "      <td>0.0</td>\n",
       "      <td>0.0</td>\n",
       "      <td>1.0</td>\n",
       "      <td>0.0</td>\n",
       "      <td>0.0</td>\n",
       "      <td>0.0</td>\n",
       "      <td>3.0</td>\n",
       "      <td>0.0</td>\n",
       "      <td>...</td>\n",
       "      <td>0.0</td>\n",
       "      <td>0.0</td>\n",
       "      <td>0.0</td>\n",
       "      <td>0.0</td>\n",
       "      <td>0.0</td>\n",
       "      <td>0.0</td>\n",
       "      <td>0.0</td>\n",
       "      <td>0.0</td>\n",
       "      <td>0.0</td>\n",
       "      <td>0.0</td>\n",
       "    </tr>\n",
       "    <tr>\n",
       "      <th>real leo</th>\n",
       "      <td>1.0</td>\n",
       "      <td>0.0</td>\n",
       "      <td>0.0</td>\n",
       "      <td>0.0</td>\n",
       "      <td>0.0</td>\n",
       "      <td>4.0</td>\n",
       "      <td>1.0</td>\n",
       "      <td>0.0</td>\n",
       "      <td>15.0</td>\n",
       "      <td>2.0</td>\n",
       "      <td>...</td>\n",
       "      <td>1.0</td>\n",
       "      <td>1.0</td>\n",
       "      <td>1.0</td>\n",
       "      <td>1.0</td>\n",
       "      <td>1.0</td>\n",
       "      <td>1.0</td>\n",
       "      <td>1.0</td>\n",
       "      <td>1.0</td>\n",
       "      <td>1.0</td>\n",
       "      <td>1.0</td>\n",
       "    </tr>\n",
       "    <tr>\n",
       "      <th>real raph</th>\n",
       "      <td>0.0</td>\n",
       "      <td>1.0</td>\n",
       "      <td>0.0</td>\n",
       "      <td>0.0</td>\n",
       "      <td>0.0</td>\n",
       "      <td>0.0</td>\n",
       "      <td>1.0</td>\n",
       "      <td>0.0</td>\n",
       "      <td>12.0</td>\n",
       "      <td>1.0</td>\n",
       "      <td>...</td>\n",
       "      <td>1.0</td>\n",
       "      <td>0.0</td>\n",
       "      <td>0.0</td>\n",
       "      <td>1.0</td>\n",
       "      <td>0.0</td>\n",
       "      <td>1.0</td>\n",
       "      <td>1.0</td>\n",
       "      <td>0.0</td>\n",
       "      <td>1.0</td>\n",
       "      <td>1.0</td>\n",
       "    </tr>\n",
       "    <tr>\n",
       "      <th>real mike</th>\n",
       "      <td>0.0</td>\n",
       "      <td>0.0</td>\n",
       "      <td>0.0</td>\n",
       "      <td>1.0</td>\n",
       "      <td>0.0</td>\n",
       "      <td>0.0</td>\n",
       "      <td>1.0</td>\n",
       "      <td>0.0</td>\n",
       "      <td>3.0</td>\n",
       "      <td>1.0</td>\n",
       "      <td>...</td>\n",
       "      <td>1.0</td>\n",
       "      <td>1.0</td>\n",
       "      <td>1.0</td>\n",
       "      <td>1.0</td>\n",
       "      <td>1.0</td>\n",
       "      <td>1.0</td>\n",
       "      <td>1.0</td>\n",
       "      <td>1.0</td>\n",
       "      <td>1.0</td>\n",
       "      <td>1.0</td>\n",
       "    </tr>\n",
       "    <tr>\n",
       "      <th>real don</th>\n",
       "      <td>0.0</td>\n",
       "      <td>0.0</td>\n",
       "      <td>0.0</td>\n",
       "      <td>0.0</td>\n",
       "      <td>0.0</td>\n",
       "      <td>0.0</td>\n",
       "      <td>0.0</td>\n",
       "      <td>0.0</td>\n",
       "      <td>4.0</td>\n",
       "      <td>0.0</td>\n",
       "      <td>...</td>\n",
       "      <td>0.0</td>\n",
       "      <td>0.0</td>\n",
       "      <td>0.0</td>\n",
       "      <td>1.0</td>\n",
       "      <td>0.0</td>\n",
       "      <td>1.0</td>\n",
       "      <td>0.0</td>\n",
       "      <td>0.0</td>\n",
       "      <td>1.0</td>\n",
       "      <td>1.0</td>\n",
       "    </tr>\n",
       "  </tbody>\n",
       "</table>\n",
       "<p>8 rows × 6820 columns</p>\n",
       "</div>"
      ],
      "text/plain": [
       "           abandoned  abbeville  abbey  abbracciava  abilities  ability  able  \\\n",
       "tmnt leo         1.0        0.0    0.0          0.0        2.0      0.0   0.0   \n",
       "tmnt raph        0.0        0.0    1.0          0.0        1.0      0.0   0.0   \n",
       "tmnt mike        0.0        0.0    0.0          0.0        2.0      1.0   1.0   \n",
       "tmnt don         0.0        0.0    0.0          0.0        1.0      0.0   0.0   \n",
       "real leo         1.0        0.0    0.0          0.0        0.0      4.0   1.0   \n",
       "real raph        0.0        1.0    0.0          0.0        0.0      0.0   1.0   \n",
       "real mike        0.0        0.0    0.0          1.0        0.0      0.0   1.0   \n",
       "real don         0.0        0.0    0.0          0.0        0.0      0.0   0.0   \n",
       "\n",
       "           abode  about  above  ...  தமிழ்  తెలుగు  ಕನ್ನಡ  മലയാളം  සිංහල  ไทย  \\\n",
       "tmnt leo     0.0    5.0    1.0  ...    0.0     0.0    0.0     0.0    0.0  0.0   \n",
       "tmnt raph    0.0    3.0    0.0  ...    0.0     0.0    0.0     0.0    0.0  0.0   \n",
       "tmnt mike    1.0    4.0    0.0  ...    0.0     0.0    0.0     0.0    0.0  0.0   \n",
       "tmnt don     0.0    3.0    0.0  ...    0.0     0.0    0.0     0.0    0.0  0.0   \n",
       "real leo     0.0   15.0    2.0  ...    1.0     1.0    1.0     1.0    1.0  1.0   \n",
       "real raph    0.0   12.0    1.0  ...    1.0     0.0    0.0     1.0    0.0  1.0   \n",
       "real mike    0.0    3.0    1.0  ...    1.0     1.0    1.0     1.0    1.0  1.0   \n",
       "real don     0.0    4.0    0.0  ...    0.0     0.0    0.0     1.0    0.0  1.0   \n",
       "\n",
       "           བོདཡིག  မြန်မာဘာသာ  한국어  日本語  \n",
       "tmnt leo      0.0         0.0  1.0  0.0  \n",
       "tmnt raph     0.0         0.0  0.0  0.0  \n",
       "tmnt mike     0.0         0.0  1.0  0.0  \n",
       "tmnt don      0.0         0.0  0.0  0.0  \n",
       "real leo      1.0         1.0  1.0  1.0  \n",
       "real raph     1.0         0.0  1.0  1.0  \n",
       "real mike     1.0         1.0  1.0  1.0  \n",
       "real don      0.0         0.0  1.0  1.0  \n",
       "\n",
       "[8 rows x 6820 columns]"
      ]
     },
     "execution_count": 60,
     "metadata": {},
     "output_type": "execute_result"
    }
   ],
   "source": [
    "problem_1_df"
   ]
  },
  {
   "cell_type": "markdown",
   "metadata": {},
   "source": [
    "## Problem 1 a"
   ]
  },
  {
   "cell_type": "code",
   "execution_count": 33,
   "metadata": {},
   "outputs": [],
   "source": [
    "word_counts = problem_1_df.sum(axis=1)"
   ]
  },
  {
   "cell_type": "code",
   "execution_count": 49,
   "metadata": {},
   "outputs": [
    {
     "data": {
      "text/plain": [
       "tmnt leo     3114.0\n",
       "tmnt raph    1976.0\n",
       "tmnt mike    3330.0\n",
       "tmnt don     2143.0\n",
       "real leo     8962.0\n",
       "real raph    6524.0\n",
       "real mike    4618.0\n",
       "real don     1766.0\n",
       "dtype: float64"
      ]
     },
     "execution_count": 49,
     "metadata": {},
     "output_type": "execute_result"
    }
   ],
   "source": [
    "word_counts"
   ]
  },
  {
   "cell_type": "markdown",
   "metadata": {},
   "source": [
    "### Determine the number of documents that contain each word\n",
    "\n",
    "This will allow me to keep track of number of documents that contain the given word, by making it 1 if it contains the word, 0 otherwise"
   ]
  },
  {
   "cell_type": "code",
   "execution_count": 50,
   "metadata": {},
   "outputs": [
    {
     "name": "stderr",
     "output_type": "stream",
     "text": [
      "/var/folders/9l/1xgvrcy5545b3kwy8sbpb_7h0000gn/T/ipykernel_16336/2945791922.py:1: FutureWarning: DataFrame.applymap has been deprecated. Use DataFrame.map instead.\n",
      "  documents_count_df = problem_1_df.applymap(lambda x: 1 if x != 0 and pd.notna(x) else 0)\n"
     ]
    }
   ],
   "source": [
    "documents_count_df = problem_1_df.applymap(lambda x: 1 if x != 0 and pd.notna(x) else 0)"
   ]
  },
  {
   "cell_type": "markdown",
   "metadata": {},
   "source": [
    "Sum each column to get n_w for each word"
   ]
  },
  {
   "cell_type": "code",
   "execution_count": 54,
   "metadata": {},
   "outputs": [
    {
     "data": {
      "text/plain": [
       "abandoned      2\n",
       "abbeville      1\n",
       "abbey          1\n",
       "abbracciava    1\n",
       "abilities      4\n",
       "              ..\n",
       "ไทย            4\n",
       "བོདཡིག         3\n",
       "မြန်မာဘာသာ     2\n",
       "한국어            6\n",
       "日本語            4\n",
       "Length: 6820, dtype: int64"
      ]
     },
     "execution_count": 54,
     "metadata": {},
     "output_type": "execute_result"
    }
   ],
   "source": [
    "n_w = documents_count_df.sum()\n",
    "n_w"
   ]
  },
  {
   "cell_type": "code",
   "execution_count": 47,
   "metadata": {},
   "outputs": [],
   "source": [
    "dtm1 = pd.DataFrame(columns=problem_1_df.columns)\n",
    "for k,v in word_counts.items():\n",
    "    dtm1.loc[k] = problem_1_df.loc[k]/v"
   ]
  },
  {
   "cell_type": "code",
   "execution_count": 63,
   "metadata": {},
   "outputs": [],
   "source": [
    "D = 8"
   ]
  },
  {
   "cell_type": "code",
   "execution_count": 75,
   "metadata": {},
   "outputs": [],
   "source": [
    "dtm1 = dtm1 * np.log(D/dtm1.columns.map(n_w.to_dict()))"
   ]
  },
  {
   "cell_type": "markdown",
   "metadata": {},
   "source": [
    "### dtm2 - first scale by IDF and then normalize by word count"
   ]
  },
  {
   "cell_type": "code",
   "execution_count": 77,
   "metadata": {},
   "outputs": [],
   "source": [
    "dtm2 = pd.DataFrame(columns=problem_1_df.columns)"
   ]
  },
  {
   "cell_type": "code",
   "execution_count": 81,
   "metadata": {},
   "outputs": [],
   "source": [
    "dtm2 = problem_1_df * np.log(D/dtm2.columns.map(n_w.to_dict()))"
   ]
  },
  {
   "cell_type": "code",
   "execution_count": 83,
   "metadata": {},
   "outputs": [],
   "source": [
    "for k,v in word_counts.items():\n",
    "    dtm2.loc[k] = dtm2.loc[k]/v"
   ]
  },
  {
   "cell_type": "markdown",
   "metadata": {},
   "source": [
    "### dtm1 vs dtm2\n",
    "\n",
    "They are identical. This makes since because you are only apply transformations in a different order. Both IDF and word count normalization depend on the original data and it does not matter which order you apply."
   ]
  },
  {
   "cell_type": "code",
   "execution_count": 88,
   "metadata": {},
   "outputs": [
    {
     "data": {
      "text/html": [
       "<div>\n",
       "<style scoped>\n",
       "    .dataframe tbody tr th:only-of-type {\n",
       "        vertical-align: middle;\n",
       "    }\n",
       "\n",
       "    .dataframe tbody tr th {\n",
       "        vertical-align: top;\n",
       "    }\n",
       "\n",
       "    .dataframe thead th {\n",
       "        text-align: right;\n",
       "    }\n",
       "</style>\n",
       "<table border=\"1\" class=\"dataframe\">\n",
       "  <thead>\n",
       "    <tr style=\"text-align: right;\">\n",
       "      <th></th>\n",
       "      <th>abandoned</th>\n",
       "      <th>abbeville</th>\n",
       "      <th>abbey</th>\n",
       "      <th>abbracciava</th>\n",
       "      <th>abilities</th>\n",
       "      <th>ability</th>\n",
       "      <th>able</th>\n",
       "      <th>abode</th>\n",
       "      <th>about</th>\n",
       "      <th>above</th>\n",
       "      <th>...</th>\n",
       "      <th>தமிழ்</th>\n",
       "      <th>తెలుగు</th>\n",
       "      <th>ಕನ್ನಡ</th>\n",
       "      <th>മലയാളം</th>\n",
       "      <th>සිංහල</th>\n",
       "      <th>ไทย</th>\n",
       "      <th>བོདཡིག</th>\n",
       "      <th>မြန်မာဘာသာ</th>\n",
       "      <th>한국어</th>\n",
       "      <th>日本語</th>\n",
       "    </tr>\n",
       "  </thead>\n",
       "  <tbody>\n",
       "    <tr>\n",
       "      <th>tmnt leo</th>\n",
       "      <td>0.000445</td>\n",
       "      <td>0.000000</td>\n",
       "      <td>0.000000</td>\n",
       "      <td>0.00000</td>\n",
       "      <td>0.000445</td>\n",
       "      <td>0.000000</td>\n",
       "      <td>0.000000</td>\n",
       "      <td>0.000000</td>\n",
       "      <td>0.0</td>\n",
       "      <td>0.000223</td>\n",
       "      <td>...</td>\n",
       "      <td>0.000000</td>\n",
       "      <td>0.000000</td>\n",
       "      <td>0.000000</td>\n",
       "      <td>0.000000</td>\n",
       "      <td>0.000000</td>\n",
       "      <td>0.000000</td>\n",
       "      <td>0.000000</td>\n",
       "      <td>0.000000</td>\n",
       "      <td>0.000092</td>\n",
       "      <td>0.000000</td>\n",
       "    </tr>\n",
       "    <tr>\n",
       "      <th>tmnt raph</th>\n",
       "      <td>0.000000</td>\n",
       "      <td>0.000000</td>\n",
       "      <td>0.001052</td>\n",
       "      <td>0.00000</td>\n",
       "      <td>0.000351</td>\n",
       "      <td>0.000000</td>\n",
       "      <td>0.000000</td>\n",
       "      <td>0.000000</td>\n",
       "      <td>0.0</td>\n",
       "      <td>0.000000</td>\n",
       "      <td>...</td>\n",
       "      <td>0.000000</td>\n",
       "      <td>0.000000</td>\n",
       "      <td>0.000000</td>\n",
       "      <td>0.000000</td>\n",
       "      <td>0.000000</td>\n",
       "      <td>0.000000</td>\n",
       "      <td>0.000000</td>\n",
       "      <td>0.000000</td>\n",
       "      <td>0.000000</td>\n",
       "      <td>0.000000</td>\n",
       "    </tr>\n",
       "    <tr>\n",
       "      <th>tmnt mike</th>\n",
       "      <td>0.000000</td>\n",
       "      <td>0.000000</td>\n",
       "      <td>0.000000</td>\n",
       "      <td>0.00000</td>\n",
       "      <td>0.000416</td>\n",
       "      <td>0.000416</td>\n",
       "      <td>0.000208</td>\n",
       "      <td>0.000624</td>\n",
       "      <td>0.0</td>\n",
       "      <td>0.000000</td>\n",
       "      <td>...</td>\n",
       "      <td>0.000000</td>\n",
       "      <td>0.000000</td>\n",
       "      <td>0.000000</td>\n",
       "      <td>0.000000</td>\n",
       "      <td>0.000000</td>\n",
       "      <td>0.000000</td>\n",
       "      <td>0.000000</td>\n",
       "      <td>0.000000</td>\n",
       "      <td>0.000086</td>\n",
       "      <td>0.000000</td>\n",
       "    </tr>\n",
       "    <tr>\n",
       "      <th>tmnt don</th>\n",
       "      <td>0.000000</td>\n",
       "      <td>0.000000</td>\n",
       "      <td>0.000000</td>\n",
       "      <td>0.00000</td>\n",
       "      <td>0.000323</td>\n",
       "      <td>0.000000</td>\n",
       "      <td>0.000000</td>\n",
       "      <td>0.000000</td>\n",
       "      <td>0.0</td>\n",
       "      <td>0.000000</td>\n",
       "      <td>...</td>\n",
       "      <td>0.000000</td>\n",
       "      <td>0.000000</td>\n",
       "      <td>0.000000</td>\n",
       "      <td>0.000000</td>\n",
       "      <td>0.000000</td>\n",
       "      <td>0.000000</td>\n",
       "      <td>0.000000</td>\n",
       "      <td>0.000000</td>\n",
       "      <td>0.000000</td>\n",
       "      <td>0.000000</td>\n",
       "    </tr>\n",
       "    <tr>\n",
       "      <th>real leo</th>\n",
       "      <td>0.000155</td>\n",
       "      <td>0.000000</td>\n",
       "      <td>0.000000</td>\n",
       "      <td>0.00000</td>\n",
       "      <td>0.000000</td>\n",
       "      <td>0.000619</td>\n",
       "      <td>0.000077</td>\n",
       "      <td>0.000000</td>\n",
       "      <td>0.0</td>\n",
       "      <td>0.000155</td>\n",
       "      <td>...</td>\n",
       "      <td>0.000109</td>\n",
       "      <td>0.000155</td>\n",
       "      <td>0.000155</td>\n",
       "      <td>0.000077</td>\n",
       "      <td>0.000155</td>\n",
       "      <td>0.000077</td>\n",
       "      <td>0.000109</td>\n",
       "      <td>0.000155</td>\n",
       "      <td>0.000032</td>\n",
       "      <td>0.000077</td>\n",
       "    </tr>\n",
       "    <tr>\n",
       "      <th>real raph</th>\n",
       "      <td>0.000000</td>\n",
       "      <td>0.000319</td>\n",
       "      <td>0.000000</td>\n",
       "      <td>0.00000</td>\n",
       "      <td>0.000000</td>\n",
       "      <td>0.000000</td>\n",
       "      <td>0.000106</td>\n",
       "      <td>0.000000</td>\n",
       "      <td>0.0</td>\n",
       "      <td>0.000106</td>\n",
       "      <td>...</td>\n",
       "      <td>0.000150</td>\n",
       "      <td>0.000000</td>\n",
       "      <td>0.000000</td>\n",
       "      <td>0.000106</td>\n",
       "      <td>0.000000</td>\n",
       "      <td>0.000106</td>\n",
       "      <td>0.000150</td>\n",
       "      <td>0.000000</td>\n",
       "      <td>0.000044</td>\n",
       "      <td>0.000106</td>\n",
       "    </tr>\n",
       "    <tr>\n",
       "      <th>real mike</th>\n",
       "      <td>0.000000</td>\n",
       "      <td>0.000000</td>\n",
       "      <td>0.000000</td>\n",
       "      <td>0.00045</td>\n",
       "      <td>0.000000</td>\n",
       "      <td>0.000000</td>\n",
       "      <td>0.000150</td>\n",
       "      <td>0.000000</td>\n",
       "      <td>0.0</td>\n",
       "      <td>0.000150</td>\n",
       "      <td>...</td>\n",
       "      <td>0.000212</td>\n",
       "      <td>0.000300</td>\n",
       "      <td>0.000300</td>\n",
       "      <td>0.000150</td>\n",
       "      <td>0.000300</td>\n",
       "      <td>0.000150</td>\n",
       "      <td>0.000212</td>\n",
       "      <td>0.000300</td>\n",
       "      <td>0.000062</td>\n",
       "      <td>0.000150</td>\n",
       "    </tr>\n",
       "    <tr>\n",
       "      <th>real don</th>\n",
       "      <td>0.000000</td>\n",
       "      <td>0.000000</td>\n",
       "      <td>0.000000</td>\n",
       "      <td>0.00000</td>\n",
       "      <td>0.000000</td>\n",
       "      <td>0.000000</td>\n",
       "      <td>0.000000</td>\n",
       "      <td>0.000000</td>\n",
       "      <td>0.0</td>\n",
       "      <td>0.000000</td>\n",
       "      <td>...</td>\n",
       "      <td>0.000000</td>\n",
       "      <td>0.000000</td>\n",
       "      <td>0.000000</td>\n",
       "      <td>0.000392</td>\n",
       "      <td>0.000000</td>\n",
       "      <td>0.000392</td>\n",
       "      <td>0.000000</td>\n",
       "      <td>0.000000</td>\n",
       "      <td>0.000163</td>\n",
       "      <td>0.000392</td>\n",
       "    </tr>\n",
       "  </tbody>\n",
       "</table>\n",
       "<p>8 rows × 6820 columns</p>\n",
       "</div>"
      ],
      "text/plain": [
       "           abandoned  abbeville     abbey  abbracciava  abilities   ability  \\\n",
       "tmnt leo    0.000445   0.000000  0.000000      0.00000   0.000445  0.000000   \n",
       "tmnt raph   0.000000   0.000000  0.001052      0.00000   0.000351  0.000000   \n",
       "tmnt mike   0.000000   0.000000  0.000000      0.00000   0.000416  0.000416   \n",
       "tmnt don    0.000000   0.000000  0.000000      0.00000   0.000323  0.000000   \n",
       "real leo    0.000155   0.000000  0.000000      0.00000   0.000000  0.000619   \n",
       "real raph   0.000000   0.000319  0.000000      0.00000   0.000000  0.000000   \n",
       "real mike   0.000000   0.000000  0.000000      0.00045   0.000000  0.000000   \n",
       "real don    0.000000   0.000000  0.000000      0.00000   0.000000  0.000000   \n",
       "\n",
       "               able     abode  about     above  ...     தமிழ்    తెలుగు  \\\n",
       "tmnt leo   0.000000  0.000000    0.0  0.000223  ...  0.000000  0.000000   \n",
       "tmnt raph  0.000000  0.000000    0.0  0.000000  ...  0.000000  0.000000   \n",
       "tmnt mike  0.000208  0.000624    0.0  0.000000  ...  0.000000  0.000000   \n",
       "tmnt don   0.000000  0.000000    0.0  0.000000  ...  0.000000  0.000000   \n",
       "real leo   0.000077  0.000000    0.0  0.000155  ...  0.000109  0.000155   \n",
       "real raph  0.000106  0.000000    0.0  0.000106  ...  0.000150  0.000000   \n",
       "real mike  0.000150  0.000000    0.0  0.000150  ...  0.000212  0.000300   \n",
       "real don   0.000000  0.000000    0.0  0.000000  ...  0.000000  0.000000   \n",
       "\n",
       "              ಕನ್ನಡ    മലയാളം     සිංහල       ไทย    བོདཡིག  မြန်မာဘာသာ  \\\n",
       "tmnt leo   0.000000  0.000000  0.000000  0.000000  0.000000    0.000000   \n",
       "tmnt raph  0.000000  0.000000  0.000000  0.000000  0.000000    0.000000   \n",
       "tmnt mike  0.000000  0.000000  0.000000  0.000000  0.000000    0.000000   \n",
       "tmnt don   0.000000  0.000000  0.000000  0.000000  0.000000    0.000000   \n",
       "real leo   0.000155  0.000077  0.000155  0.000077  0.000109    0.000155   \n",
       "real raph  0.000000  0.000106  0.000000  0.000106  0.000150    0.000000   \n",
       "real mike  0.000300  0.000150  0.000300  0.000150  0.000212    0.000300   \n",
       "real don   0.000000  0.000392  0.000000  0.000392  0.000000    0.000000   \n",
       "\n",
       "                한국어       日本語  \n",
       "tmnt leo   0.000092  0.000000  \n",
       "tmnt raph  0.000000  0.000000  \n",
       "tmnt mike  0.000086  0.000000  \n",
       "tmnt don   0.000000  0.000000  \n",
       "real leo   0.000032  0.000077  \n",
       "real raph  0.000044  0.000106  \n",
       "real mike  0.000062  0.000150  \n",
       "real don   0.000163  0.000392  \n",
       "\n",
       "[8 rows x 6820 columns]"
      ]
     },
     "execution_count": 88,
     "metadata": {},
     "output_type": "execute_result"
    }
   ],
   "source": [
    "dtm1"
   ]
  },
  {
   "cell_type": "code",
   "execution_count": 89,
   "metadata": {},
   "outputs": [
    {
     "data": {
      "text/html": [
       "<div>\n",
       "<style scoped>\n",
       "    .dataframe tbody tr th:only-of-type {\n",
       "        vertical-align: middle;\n",
       "    }\n",
       "\n",
       "    .dataframe tbody tr th {\n",
       "        vertical-align: top;\n",
       "    }\n",
       "\n",
       "    .dataframe thead th {\n",
       "        text-align: right;\n",
       "    }\n",
       "</style>\n",
       "<table border=\"1\" class=\"dataframe\">\n",
       "  <thead>\n",
       "    <tr style=\"text-align: right;\">\n",
       "      <th></th>\n",
       "      <th>abandoned</th>\n",
       "      <th>abbeville</th>\n",
       "      <th>abbey</th>\n",
       "      <th>abbracciava</th>\n",
       "      <th>abilities</th>\n",
       "      <th>ability</th>\n",
       "      <th>able</th>\n",
       "      <th>abode</th>\n",
       "      <th>about</th>\n",
       "      <th>above</th>\n",
       "      <th>...</th>\n",
       "      <th>தமிழ்</th>\n",
       "      <th>తెలుగు</th>\n",
       "      <th>ಕನ್ನಡ</th>\n",
       "      <th>മലയാളം</th>\n",
       "      <th>සිංහල</th>\n",
       "      <th>ไทย</th>\n",
       "      <th>བོདཡིག</th>\n",
       "      <th>မြန်မာဘာသာ</th>\n",
       "      <th>한국어</th>\n",
       "      <th>日本語</th>\n",
       "    </tr>\n",
       "  </thead>\n",
       "  <tbody>\n",
       "    <tr>\n",
       "      <th>tmnt leo</th>\n",
       "      <td>0.000445</td>\n",
       "      <td>0.000000</td>\n",
       "      <td>0.000000</td>\n",
       "      <td>0.00000</td>\n",
       "      <td>0.000445</td>\n",
       "      <td>0.000000</td>\n",
       "      <td>0.000000</td>\n",
       "      <td>0.000000</td>\n",
       "      <td>0.0</td>\n",
       "      <td>0.000223</td>\n",
       "      <td>...</td>\n",
       "      <td>0.000000</td>\n",
       "      <td>0.000000</td>\n",
       "      <td>0.000000</td>\n",
       "      <td>0.000000</td>\n",
       "      <td>0.000000</td>\n",
       "      <td>0.000000</td>\n",
       "      <td>0.000000</td>\n",
       "      <td>0.000000</td>\n",
       "      <td>0.000092</td>\n",
       "      <td>0.000000</td>\n",
       "    </tr>\n",
       "    <tr>\n",
       "      <th>tmnt raph</th>\n",
       "      <td>0.000000</td>\n",
       "      <td>0.000000</td>\n",
       "      <td>0.001052</td>\n",
       "      <td>0.00000</td>\n",
       "      <td>0.000351</td>\n",
       "      <td>0.000000</td>\n",
       "      <td>0.000000</td>\n",
       "      <td>0.000000</td>\n",
       "      <td>0.0</td>\n",
       "      <td>0.000000</td>\n",
       "      <td>...</td>\n",
       "      <td>0.000000</td>\n",
       "      <td>0.000000</td>\n",
       "      <td>0.000000</td>\n",
       "      <td>0.000000</td>\n",
       "      <td>0.000000</td>\n",
       "      <td>0.000000</td>\n",
       "      <td>0.000000</td>\n",
       "      <td>0.000000</td>\n",
       "      <td>0.000000</td>\n",
       "      <td>0.000000</td>\n",
       "    </tr>\n",
       "    <tr>\n",
       "      <th>tmnt mike</th>\n",
       "      <td>0.000000</td>\n",
       "      <td>0.000000</td>\n",
       "      <td>0.000000</td>\n",
       "      <td>0.00000</td>\n",
       "      <td>0.000416</td>\n",
       "      <td>0.000416</td>\n",
       "      <td>0.000208</td>\n",
       "      <td>0.000624</td>\n",
       "      <td>0.0</td>\n",
       "      <td>0.000000</td>\n",
       "      <td>...</td>\n",
       "      <td>0.000000</td>\n",
       "      <td>0.000000</td>\n",
       "      <td>0.000000</td>\n",
       "      <td>0.000000</td>\n",
       "      <td>0.000000</td>\n",
       "      <td>0.000000</td>\n",
       "      <td>0.000000</td>\n",
       "      <td>0.000000</td>\n",
       "      <td>0.000086</td>\n",
       "      <td>0.000000</td>\n",
       "    </tr>\n",
       "    <tr>\n",
       "      <th>tmnt don</th>\n",
       "      <td>0.000000</td>\n",
       "      <td>0.000000</td>\n",
       "      <td>0.000000</td>\n",
       "      <td>0.00000</td>\n",
       "      <td>0.000323</td>\n",
       "      <td>0.000000</td>\n",
       "      <td>0.000000</td>\n",
       "      <td>0.000000</td>\n",
       "      <td>0.0</td>\n",
       "      <td>0.000000</td>\n",
       "      <td>...</td>\n",
       "      <td>0.000000</td>\n",
       "      <td>0.000000</td>\n",
       "      <td>0.000000</td>\n",
       "      <td>0.000000</td>\n",
       "      <td>0.000000</td>\n",
       "      <td>0.000000</td>\n",
       "      <td>0.000000</td>\n",
       "      <td>0.000000</td>\n",
       "      <td>0.000000</td>\n",
       "      <td>0.000000</td>\n",
       "    </tr>\n",
       "    <tr>\n",
       "      <th>real leo</th>\n",
       "      <td>0.000155</td>\n",
       "      <td>0.000000</td>\n",
       "      <td>0.000000</td>\n",
       "      <td>0.00000</td>\n",
       "      <td>0.000000</td>\n",
       "      <td>0.000619</td>\n",
       "      <td>0.000077</td>\n",
       "      <td>0.000000</td>\n",
       "      <td>0.0</td>\n",
       "      <td>0.000155</td>\n",
       "      <td>...</td>\n",
       "      <td>0.000109</td>\n",
       "      <td>0.000155</td>\n",
       "      <td>0.000155</td>\n",
       "      <td>0.000077</td>\n",
       "      <td>0.000155</td>\n",
       "      <td>0.000077</td>\n",
       "      <td>0.000109</td>\n",
       "      <td>0.000155</td>\n",
       "      <td>0.000032</td>\n",
       "      <td>0.000077</td>\n",
       "    </tr>\n",
       "    <tr>\n",
       "      <th>real raph</th>\n",
       "      <td>0.000000</td>\n",
       "      <td>0.000319</td>\n",
       "      <td>0.000000</td>\n",
       "      <td>0.00000</td>\n",
       "      <td>0.000000</td>\n",
       "      <td>0.000000</td>\n",
       "      <td>0.000106</td>\n",
       "      <td>0.000000</td>\n",
       "      <td>0.0</td>\n",
       "      <td>0.000106</td>\n",
       "      <td>...</td>\n",
       "      <td>0.000150</td>\n",
       "      <td>0.000000</td>\n",
       "      <td>0.000000</td>\n",
       "      <td>0.000106</td>\n",
       "      <td>0.000000</td>\n",
       "      <td>0.000106</td>\n",
       "      <td>0.000150</td>\n",
       "      <td>0.000000</td>\n",
       "      <td>0.000044</td>\n",
       "      <td>0.000106</td>\n",
       "    </tr>\n",
       "    <tr>\n",
       "      <th>real mike</th>\n",
       "      <td>0.000000</td>\n",
       "      <td>0.000000</td>\n",
       "      <td>0.000000</td>\n",
       "      <td>0.00045</td>\n",
       "      <td>0.000000</td>\n",
       "      <td>0.000000</td>\n",
       "      <td>0.000150</td>\n",
       "      <td>0.000000</td>\n",
       "      <td>0.0</td>\n",
       "      <td>0.000150</td>\n",
       "      <td>...</td>\n",
       "      <td>0.000212</td>\n",
       "      <td>0.000300</td>\n",
       "      <td>0.000300</td>\n",
       "      <td>0.000150</td>\n",
       "      <td>0.000300</td>\n",
       "      <td>0.000150</td>\n",
       "      <td>0.000212</td>\n",
       "      <td>0.000300</td>\n",
       "      <td>0.000062</td>\n",
       "      <td>0.000150</td>\n",
       "    </tr>\n",
       "    <tr>\n",
       "      <th>real don</th>\n",
       "      <td>0.000000</td>\n",
       "      <td>0.000000</td>\n",
       "      <td>0.000000</td>\n",
       "      <td>0.00000</td>\n",
       "      <td>0.000000</td>\n",
       "      <td>0.000000</td>\n",
       "      <td>0.000000</td>\n",
       "      <td>0.000000</td>\n",
       "      <td>0.0</td>\n",
       "      <td>0.000000</td>\n",
       "      <td>...</td>\n",
       "      <td>0.000000</td>\n",
       "      <td>0.000000</td>\n",
       "      <td>0.000000</td>\n",
       "      <td>0.000392</td>\n",
       "      <td>0.000000</td>\n",
       "      <td>0.000392</td>\n",
       "      <td>0.000000</td>\n",
       "      <td>0.000000</td>\n",
       "      <td>0.000163</td>\n",
       "      <td>0.000392</td>\n",
       "    </tr>\n",
       "  </tbody>\n",
       "</table>\n",
       "<p>8 rows × 6820 columns</p>\n",
       "</div>"
      ],
      "text/plain": [
       "           abandoned  abbeville     abbey  abbracciava  abilities   ability  \\\n",
       "tmnt leo    0.000445   0.000000  0.000000      0.00000   0.000445  0.000000   \n",
       "tmnt raph   0.000000   0.000000  0.001052      0.00000   0.000351  0.000000   \n",
       "tmnt mike   0.000000   0.000000  0.000000      0.00000   0.000416  0.000416   \n",
       "tmnt don    0.000000   0.000000  0.000000      0.00000   0.000323  0.000000   \n",
       "real leo    0.000155   0.000000  0.000000      0.00000   0.000000  0.000619   \n",
       "real raph   0.000000   0.000319  0.000000      0.00000   0.000000  0.000000   \n",
       "real mike   0.000000   0.000000  0.000000      0.00045   0.000000  0.000000   \n",
       "real don    0.000000   0.000000  0.000000      0.00000   0.000000  0.000000   \n",
       "\n",
       "               able     abode  about     above  ...     தமிழ்    తెలుగు  \\\n",
       "tmnt leo   0.000000  0.000000    0.0  0.000223  ...  0.000000  0.000000   \n",
       "tmnt raph  0.000000  0.000000    0.0  0.000000  ...  0.000000  0.000000   \n",
       "tmnt mike  0.000208  0.000624    0.0  0.000000  ...  0.000000  0.000000   \n",
       "tmnt don   0.000000  0.000000    0.0  0.000000  ...  0.000000  0.000000   \n",
       "real leo   0.000077  0.000000    0.0  0.000155  ...  0.000109  0.000155   \n",
       "real raph  0.000106  0.000000    0.0  0.000106  ...  0.000150  0.000000   \n",
       "real mike  0.000150  0.000000    0.0  0.000150  ...  0.000212  0.000300   \n",
       "real don   0.000000  0.000000    0.0  0.000000  ...  0.000000  0.000000   \n",
       "\n",
       "              ಕನ್ನಡ    മലയാളം     සිංහල       ไทย    བོདཡིག  မြန်မာဘာသာ  \\\n",
       "tmnt leo   0.000000  0.000000  0.000000  0.000000  0.000000    0.000000   \n",
       "tmnt raph  0.000000  0.000000  0.000000  0.000000  0.000000    0.000000   \n",
       "tmnt mike  0.000000  0.000000  0.000000  0.000000  0.000000    0.000000   \n",
       "tmnt don   0.000000  0.000000  0.000000  0.000000  0.000000    0.000000   \n",
       "real leo   0.000155  0.000077  0.000155  0.000077  0.000109    0.000155   \n",
       "real raph  0.000000  0.000106  0.000000  0.000106  0.000150    0.000000   \n",
       "real mike  0.000300  0.000150  0.000300  0.000150  0.000212    0.000300   \n",
       "real don   0.000000  0.000392  0.000000  0.000392  0.000000    0.000000   \n",
       "\n",
       "                한국어       日本語  \n",
       "tmnt leo   0.000092  0.000000  \n",
       "tmnt raph  0.000000  0.000000  \n",
       "tmnt mike  0.000086  0.000000  \n",
       "tmnt don   0.000000  0.000000  \n",
       "real leo   0.000032  0.000077  \n",
       "real raph  0.000044  0.000106  \n",
       "real mike  0.000062  0.000150  \n",
       "real don   0.000163  0.000392  \n",
       "\n",
       "[8 rows x 6820 columns]"
      ]
     },
     "execution_count": 89,
     "metadata": {},
     "output_type": "execute_result"
    }
   ],
   "source": [
    "dtm2"
   ]
  },
  {
   "cell_type": "markdown",
   "metadata": {},
   "source": [
    "## Problem 1 b"
   ]
  },
  {
   "cell_type": "code",
   "execution_count": 90,
   "metadata": {},
   "outputs": [],
   "source": [
    "dtm3 = pd.DataFrame(columns=problem_1_df.columns)\n",
    "for k,v in word_counts.items():\n",
    "    dtm3.loc[k] = problem_1_df.loc[k]/v"
   ]
  },
  {
   "cell_type": "code",
   "execution_count": 92,
   "metadata": {},
   "outputs": [],
   "source": [
    "tmnt_mike = np.array(dtm3.loc['tmnt mike'])"
   ]
  },
  {
   "cell_type": "markdown",
   "metadata": {},
   "source": [
    "Iterate through the data frame and calculate the euclidean norm for each vector compared to `tmnt_mike`\n",
    "\n",
    "The closest document is `tmnt raph`"
   ]
  },
  {
   "cell_type": "code",
   "execution_count": 101,
   "metadata": {},
   "outputs": [
    {
     "name": "stdout",
     "output_type": "stream",
     "text": [
      "tmnt leo: 0.04118467877954197\n",
      "tmnt raph: 0.03782949128933655\n",
      "tmnt mike: 0.0\n",
      "tmnt don: 0.042006124349499935\n",
      "real leo: 0.04887327167743683\n",
      "real raph: 0.04487836641687292\n",
      "real mike: 0.047500179860007326\n",
      "real don: 0.06376091296934941\n"
     ]
    }
   ],
   "source": [
    "for row in dtm3.iterrows():\n",
    "    euclidean_distance = np.linalg.norm(tmnt_mike - np.array(row[1]))\n",
    "    print('{}: {}'.format(row[0], euclidean_distance))"
   ]
  },
  {
   "cell_type": "markdown",
   "metadata": {},
   "source": [
    "## Problem 1c\n",
    "\n",
    "Complete linkage does a better job when K=2 because it creates to groups, one of turtles and one of the artists. "
   ]
  },
  {
   "cell_type": "code",
   "execution_count": 105,
   "metadata": {},
   "outputs": [],
   "source": [
    "euclidean_distances = pdist(dtm3, metric='euclidean')\n",
    "distance_matrix = squareform(euclidean_distances)"
   ]
  },
  {
   "cell_type": "code",
   "execution_count": 106,
   "metadata": {},
   "outputs": [
    {
     "data": {
      "text/html": [
       "<div>\n",
       "<style scoped>\n",
       "    .dataframe tbody tr th:only-of-type {\n",
       "        vertical-align: middle;\n",
       "    }\n",
       "\n",
       "    .dataframe tbody tr th {\n",
       "        vertical-align: top;\n",
       "    }\n",
       "\n",
       "    .dataframe thead th {\n",
       "        text-align: right;\n",
       "    }\n",
       "</style>\n",
       "<table border=\"1\" class=\"dataframe\">\n",
       "  <thead>\n",
       "    <tr style=\"text-align: right;\">\n",
       "      <th></th>\n",
       "      <th>tmnt leo</th>\n",
       "      <th>tmnt raph</th>\n",
       "      <th>tmnt mike</th>\n",
       "      <th>tmnt don</th>\n",
       "      <th>real leo</th>\n",
       "      <th>real raph</th>\n",
       "      <th>real mike</th>\n",
       "      <th>real don</th>\n",
       "    </tr>\n",
       "  </thead>\n",
       "  <tbody>\n",
       "    <tr>\n",
       "      <th>tmnt leo</th>\n",
       "      <td>0.000000</td>\n",
       "      <td>0.038599</td>\n",
       "      <td>0.041185</td>\n",
       "      <td>0.044445</td>\n",
       "      <td>0.042532</td>\n",
       "      <td>0.049604</td>\n",
       "      <td>0.064754</td>\n",
       "      <td>0.067113</td>\n",
       "    </tr>\n",
       "    <tr>\n",
       "      <th>tmnt raph</th>\n",
       "      <td>0.038599</td>\n",
       "      <td>0.000000</td>\n",
       "      <td>0.037829</td>\n",
       "      <td>0.042870</td>\n",
       "      <td>0.054986</td>\n",
       "      <td>0.046176</td>\n",
       "      <td>0.066762</td>\n",
       "      <td>0.068849</td>\n",
       "    </tr>\n",
       "    <tr>\n",
       "      <th>tmnt mike</th>\n",
       "      <td>0.041185</td>\n",
       "      <td>0.037829</td>\n",
       "      <td>0.000000</td>\n",
       "      <td>0.042006</td>\n",
       "      <td>0.048873</td>\n",
       "      <td>0.044878</td>\n",
       "      <td>0.047500</td>\n",
       "      <td>0.063761</td>\n",
       "    </tr>\n",
       "    <tr>\n",
       "      <th>tmnt don</th>\n",
       "      <td>0.044445</td>\n",
       "      <td>0.042870</td>\n",
       "      <td>0.042006</td>\n",
       "      <td>0.000000</td>\n",
       "      <td>0.053655</td>\n",
       "      <td>0.050400</td>\n",
       "      <td>0.061904</td>\n",
       "      <td>0.053722</td>\n",
       "    </tr>\n",
       "    <tr>\n",
       "      <th>real leo</th>\n",
       "      <td>0.042532</td>\n",
       "      <td>0.054986</td>\n",
       "      <td>0.048873</td>\n",
       "      <td>0.053655</td>\n",
       "      <td>0.000000</td>\n",
       "      <td>0.039363</td>\n",
       "      <td>0.053363</td>\n",
       "      <td>0.055306</td>\n",
       "    </tr>\n",
       "    <tr>\n",
       "      <th>real raph</th>\n",
       "      <td>0.049604</td>\n",
       "      <td>0.046176</td>\n",
       "      <td>0.044878</td>\n",
       "      <td>0.050400</td>\n",
       "      <td>0.039363</td>\n",
       "      <td>0.000000</td>\n",
       "      <td>0.050380</td>\n",
       "      <td>0.054376</td>\n",
       "    </tr>\n",
       "    <tr>\n",
       "      <th>real mike</th>\n",
       "      <td>0.064754</td>\n",
       "      <td>0.066762</td>\n",
       "      <td>0.047500</td>\n",
       "      <td>0.061904</td>\n",
       "      <td>0.053363</td>\n",
       "      <td>0.050380</td>\n",
       "      <td>0.000000</td>\n",
       "      <td>0.057994</td>\n",
       "    </tr>\n",
       "    <tr>\n",
       "      <th>real don</th>\n",
       "      <td>0.067113</td>\n",
       "      <td>0.068849</td>\n",
       "      <td>0.063761</td>\n",
       "      <td>0.053722</td>\n",
       "      <td>0.055306</td>\n",
       "      <td>0.054376</td>\n",
       "      <td>0.057994</td>\n",
       "      <td>0.000000</td>\n",
       "    </tr>\n",
       "  </tbody>\n",
       "</table>\n",
       "</div>"
      ],
      "text/plain": [
       "           tmnt leo  tmnt raph  tmnt mike  tmnt don  real leo  real raph  \\\n",
       "tmnt leo   0.000000   0.038599   0.041185  0.044445  0.042532   0.049604   \n",
       "tmnt raph  0.038599   0.000000   0.037829  0.042870  0.054986   0.046176   \n",
       "tmnt mike  0.041185   0.037829   0.000000  0.042006  0.048873   0.044878   \n",
       "tmnt don   0.044445   0.042870   0.042006  0.000000  0.053655   0.050400   \n",
       "real leo   0.042532   0.054986   0.048873  0.053655  0.000000   0.039363   \n",
       "real raph  0.049604   0.046176   0.044878  0.050400  0.039363   0.000000   \n",
       "real mike  0.064754   0.066762   0.047500  0.061904  0.053363   0.050380   \n",
       "real don   0.067113   0.068849   0.063761  0.053722  0.055306   0.054376   \n",
       "\n",
       "           real mike  real don  \n",
       "tmnt leo    0.064754  0.067113  \n",
       "tmnt raph   0.066762  0.068849  \n",
       "tmnt mike   0.047500  0.063761  \n",
       "tmnt don    0.061904  0.053722  \n",
       "real leo    0.053363  0.055306  \n",
       "real raph   0.050380  0.054376  \n",
       "real mike   0.000000  0.057994  \n",
       "real don    0.057994  0.000000  "
      ]
     },
     "execution_count": 106,
     "metadata": {},
     "output_type": "execute_result"
    }
   ],
   "source": [
    "distance_df = pd.DataFrame(distance_matrix, index=dtm3.index, columns=dtm3.index)\n",
    "distance_df"
   ]
  },
  {
   "cell_type": "code",
   "execution_count": 347,
   "metadata": {},
   "outputs": [
    {
     "data": {
      "text/html": [
       "<style>#sk-container-id-9 {color: black;}#sk-container-id-9 pre{padding: 0;}#sk-container-id-9 div.sk-toggleable {background-color: white;}#sk-container-id-9 label.sk-toggleable__label {cursor: pointer;display: block;width: 100%;margin-bottom: 0;padding: 0.3em;box-sizing: border-box;text-align: center;}#sk-container-id-9 label.sk-toggleable__label-arrow:before {content: \"▸\";float: left;margin-right: 0.25em;color: #696969;}#sk-container-id-9 label.sk-toggleable__label-arrow:hover:before {color: black;}#sk-container-id-9 div.sk-estimator:hover label.sk-toggleable__label-arrow:before {color: black;}#sk-container-id-9 div.sk-toggleable__content {max-height: 0;max-width: 0;overflow: hidden;text-align: left;background-color: #f0f8ff;}#sk-container-id-9 div.sk-toggleable__content pre {margin: 0.2em;color: black;border-radius: 0.25em;background-color: #f0f8ff;}#sk-container-id-9 input.sk-toggleable__control:checked~div.sk-toggleable__content {max-height: 200px;max-width: 100%;overflow: auto;}#sk-container-id-9 input.sk-toggleable__control:checked~label.sk-toggleable__label-arrow:before {content: \"▾\";}#sk-container-id-9 div.sk-estimator input.sk-toggleable__control:checked~label.sk-toggleable__label {background-color: #d4ebff;}#sk-container-id-9 div.sk-label input.sk-toggleable__control:checked~label.sk-toggleable__label {background-color: #d4ebff;}#sk-container-id-9 input.sk-hidden--visually {border: 0;clip: rect(1px 1px 1px 1px);clip: rect(1px, 1px, 1px, 1px);height: 1px;margin: -1px;overflow: hidden;padding: 0;position: absolute;width: 1px;}#sk-container-id-9 div.sk-estimator {font-family: monospace;background-color: #f0f8ff;border: 1px dotted black;border-radius: 0.25em;box-sizing: border-box;margin-bottom: 0.5em;}#sk-container-id-9 div.sk-estimator:hover {background-color: #d4ebff;}#sk-container-id-9 div.sk-parallel-item::after {content: \"\";width: 100%;border-bottom: 1px solid gray;flex-grow: 1;}#sk-container-id-9 div.sk-label:hover label.sk-toggleable__label {background-color: #d4ebff;}#sk-container-id-9 div.sk-serial::before {content: \"\";position: absolute;border-left: 1px solid gray;box-sizing: border-box;top: 0;bottom: 0;left: 50%;z-index: 0;}#sk-container-id-9 div.sk-serial {display: flex;flex-direction: column;align-items: center;background-color: white;padding-right: 0.2em;padding-left: 0.2em;position: relative;}#sk-container-id-9 div.sk-item {position: relative;z-index: 1;}#sk-container-id-9 div.sk-parallel {display: flex;align-items: stretch;justify-content: center;background-color: white;position: relative;}#sk-container-id-9 div.sk-item::before, #sk-container-id-9 div.sk-parallel-item::before {content: \"\";position: absolute;border-left: 1px solid gray;box-sizing: border-box;top: 0;bottom: 0;left: 50%;z-index: -1;}#sk-container-id-9 div.sk-parallel-item {display: flex;flex-direction: column;z-index: 1;position: relative;background-color: white;}#sk-container-id-9 div.sk-parallel-item:first-child::after {align-self: flex-end;width: 50%;}#sk-container-id-9 div.sk-parallel-item:last-child::after {align-self: flex-start;width: 50%;}#sk-container-id-9 div.sk-parallel-item:only-child::after {width: 0;}#sk-container-id-9 div.sk-dashed-wrapped {border: 1px dashed gray;margin: 0 0.4em 0.5em 0.4em;box-sizing: border-box;padding-bottom: 0.4em;background-color: white;}#sk-container-id-9 div.sk-label label {font-family: monospace;font-weight: bold;display: inline-block;line-height: 1.2em;}#sk-container-id-9 div.sk-label-container {text-align: center;}#sk-container-id-9 div.sk-container {/* jupyter's `normalize.less` sets `[hidden] { display: none; }` but bootstrap.min.css set `[hidden] { display: none !important; }` so we also need the `!important` here to be able to override the default hidden behavior on the sphinx rendered scikit-learn.org. See: https://github.com/scikit-learn/scikit-learn/issues/21755 */display: inline-block !important;position: relative;}#sk-container-id-9 div.sk-text-repr-fallback {display: none;}</style><div id=\"sk-container-id-9\" class=\"sk-top-container\"><div class=\"sk-text-repr-fallback\"><pre>AgglomerativeClustering(distance_threshold=0, linkage=&#x27;complete&#x27;,\n",
       "                        n_clusters=None)</pre><b>In a Jupyter environment, please rerun this cell to show the HTML representation or trust the notebook. <br />On GitHub, the HTML representation is unable to render, please try loading this page with nbviewer.org.</b></div><div class=\"sk-container\" hidden><div class=\"sk-item\"><div class=\"sk-estimator sk-toggleable\"><input class=\"sk-toggleable__control sk-hidden--visually\" id=\"sk-estimator-id-9\" type=\"checkbox\" checked><label for=\"sk-estimator-id-9\" class=\"sk-toggleable__label sk-toggleable__label-arrow\">AgglomerativeClustering</label><div class=\"sk-toggleable__content\"><pre>AgglomerativeClustering(distance_threshold=0, linkage=&#x27;complete&#x27;,\n",
       "                        n_clusters=None)</pre></div></div></div></div></div>"
      ],
      "text/plain": [
       "AgglomerativeClustering(distance_threshold=0, linkage='complete',\n",
       "                        n_clusters=None)"
      ]
     },
     "execution_count": 347,
     "metadata": {},
     "output_type": "execute_result"
    }
   ],
   "source": [
    "HClust = AgglomerativeClustering\n",
    "hc_comp = HClust(distance_threshold=0,n_clusters=None ,linkage='complete')\n",
    "hc_comp.fit(dtm3)"
   ]
  },
  {
   "cell_type": "code",
   "execution_count": 358,
   "metadata": {},
   "outputs": [
    {
     "data": {
      "image/png": "[encoded data removed]",
      "text/plain": [
       "<Figure size 640x480 with 1 Axes>"
      ]
     },
     "metadata": {},
     "output_type": "display_data"
    }
   ],
   "source": [
    "plot_dendrogram(hc_comp, filename = 'tmnt_complete',labels = [\"tmnt leo\",\"tmnt raph\",\"tmnt mike\",\"tmnt don\",\"real leo\",\"real raph\",\"real mike\",\"real don\"])"
   ]
  },
  {
   "cell_type": "code",
   "execution_count": 359,
   "metadata": {},
   "outputs": [
    {
     "data": {
      "image/png": "[encoded data removed]",
      "text/plain": [
       "<Figure size 640x480 with 1 Axes>"
      ]
     },
     "metadata": {},
     "output_type": "display_data"
    }
   ],
   "source": [
    "hc_sing = HClust(distance_threshold=0,n_clusters=None ,linkage='single')\n",
    "hc_sing.fit(dtm3)\n",
    "plot_dendrogram(hc_sing, filename = \"tmnt_single\",labels = [\"tmnt leo\",\"tmnt raph\",\"tmnt mike\",\"tmnt don\",\"real leo\",\"real raph\",\"real mike\",\"real don\"])"
   ]
  },
  {
   "cell_type": "markdown",
   "metadata": {},
   "source": [
    "## Problem 1d"
   ]
  },
  {
   "cell_type": "code",
   "execution_count": 110,
   "metadata": {},
   "outputs": [],
   "source": [
    "word_counts = problem_1_df.sum()"
   ]
  },
  {
   "cell_type": "code",
   "execution_count": 117,
   "metadata": {},
   "outputs": [
    {
     "data": {
      "text/html": [
       "<div>\n",
       "<style scoped>\n",
       "    .dataframe tbody tr th:only-of-type {\n",
       "        vertical-align: middle;\n",
       "    }\n",
       "\n",
       "    .dataframe tbody tr th {\n",
       "        vertical-align: top;\n",
       "    }\n",
       "\n",
       "    .dataframe thead th {\n",
       "        text-align: right;\n",
       "    }\n",
       "</style>\n",
       "<table border=\"1\" class=\"dataframe\">\n",
       "  <thead>\n",
       "    <tr style=\"text-align: right;\">\n",
       "      <th></th>\n",
       "      <th>count</th>\n",
       "    </tr>\n",
       "  </thead>\n",
       "  <tbody>\n",
       "    <tr>\n",
       "      <th>the</th>\n",
       "      <td>2664.0</td>\n",
       "    </tr>\n",
       "    <tr>\n",
       "      <th>and</th>\n",
       "      <td>1127.0</td>\n",
       "    </tr>\n",
       "    <tr>\n",
       "      <th>his</th>\n",
       "      <td>636.0</td>\n",
       "    </tr>\n",
       "    <tr>\n",
       "      <th>was</th>\n",
       "      <td>453.0</td>\n",
       "    </tr>\n",
       "    <tr>\n",
       "      <th>leonardo</th>\n",
       "      <td>342.0</td>\n",
       "    </tr>\n",
       "    <tr>\n",
       "      <th>that</th>\n",
       "      <td>297.0</td>\n",
       "    </tr>\n",
       "    <tr>\n",
       "      <th>for</th>\n",
       "      <td>282.0</td>\n",
       "    </tr>\n",
       "    <tr>\n",
       "      <th>with</th>\n",
       "      <td>279.0</td>\n",
       "    </tr>\n",
       "    <tr>\n",
       "      <th>michelangelo</th>\n",
       "      <td>277.0</td>\n",
       "    </tr>\n",
       "    <tr>\n",
       "      <th>raphael</th>\n",
       "      <td>212.0</td>\n",
       "    </tr>\n",
       "    <tr>\n",
       "      <th>from</th>\n",
       "      <td>209.0</td>\n",
       "    </tr>\n",
       "    <tr>\n",
       "      <th>this</th>\n",
       "      <td>189.0</td>\n",
       "    </tr>\n",
       "    <tr>\n",
       "      <th>which</th>\n",
       "      <td>129.0</td>\n",
       "    </tr>\n",
       "    <tr>\n",
       "      <th>turtles</th>\n",
       "      <td>127.0</td>\n",
       "    </tr>\n",
       "    <tr>\n",
       "      <th>donatello</th>\n",
       "      <td>117.0</td>\n",
       "    </tr>\n",
       "    <tr>\n",
       "      <th>him</th>\n",
       "      <td>116.0</td>\n",
       "    </tr>\n",
       "    <tr>\n",
       "      <th>series</th>\n",
       "      <td>115.0</td>\n",
       "    </tr>\n",
       "    <tr>\n",
       "      <th>were</th>\n",
       "      <td>111.0</td>\n",
       "    </tr>\n",
       "    <tr>\n",
       "      <th>who</th>\n",
       "      <td>110.0</td>\n",
       "    </tr>\n",
       "    <tr>\n",
       "      <th>one</th>\n",
       "      <td>103.0</td>\n",
       "    </tr>\n",
       "  </tbody>\n",
       "</table>\n",
       "</div>"
      ],
      "text/plain": [
       "               count\n",
       "the           2664.0\n",
       "and           1127.0\n",
       "his            636.0\n",
       "was            453.0\n",
       "leonardo       342.0\n",
       "that           297.0\n",
       "for            282.0\n",
       "with           279.0\n",
       "michelangelo   277.0\n",
       "raphael        212.0\n",
       "from           209.0\n",
       "this           189.0\n",
       "which          129.0\n",
       "turtles        127.0\n",
       "donatello      117.0\n",
       "him            116.0\n",
       "series         115.0\n",
       "were           111.0\n",
       "who            110.0\n",
       "one            103.0"
      ]
     },
     "execution_count": 117,
     "metadata": {},
     "output_type": "execute_result"
    }
   ],
   "source": [
    "first_20 = pd.DataFrame(word_counts.sort_values(ascending=False), columns=['count']).head(n=20)\n",
    "first_20"
   ]
  },
  {
   "cell_type": "code",
   "execution_count": 123,
   "metadata": {},
   "outputs": [
    {
     "data": {
      "text/plain": [
       "count    0.243425\n",
       "dtype: float64"
      ]
     },
     "execution_count": 123,
     "metadata": {},
     "output_type": "execute_result"
    }
   ],
   "source": [
    "first_20.sum()/word_counts.sum()"
   ]
  },
  {
   "cell_type": "code",
   "execution_count": 127,
   "metadata": {},
   "outputs": [
    {
     "name": "stdout",
     "output_type": "stream",
     "text": [
      "254\n",
      "16231.0\n"
     ]
    }
   ],
   "source": [
    "running_sum = 0\n",
    "words = 0\n",
    "for count in word_counts.sort_values(ascending=False):\n",
    "    words+=1\n",
    "    running_sum+=count\n",
    "    if running_sum/word_counts.sum()>=0.5:\n",
    "        print(words)\n",
    "        print(running_sum)\n",
    "        break"
   ]
  },
  {
   "cell_type": "markdown",
   "metadata": {},
   "source": [
    "## Problem 1e"
   ]
  },
  {
   "cell_type": "code",
   "execution_count": 139,
   "metadata": {},
   "outputs": [],
   "source": [
    "num_of_words = 6820\n",
    "largest_count = 2664.0\n",
    "zipf_law_values  = np.array([largest_count/(i+1) for i in range(num_of_words)])\n",
    "actual_values = word_counts.sort_values(ascending=False).values\n"
   ]
  },
  {
   "cell_type": "code",
   "execution_count": 356,
   "metadata": {},
   "outputs": [
    {
     "data": {
      "image/png": "[encoded data removed]",
      "text/plain": [
       "<Figure size 640x480 with 1 Axes>"
      ]
     },
     "metadata": {},
     "output_type": "display_data"
    }
   ],
   "source": [
    "plt.scatter(actual_values,zipf_law_values)\n",
    "plt.xlabel('Actual Word Counts')\n",
    "plt.ylabel('Zipf Law\\'s Word Counts')\n",
    "plt.savefig('plots/zipf_law.png')"
   ]
  },
  {
   "cell_type": "markdown",
   "metadata": {},
   "source": [
    "# Problem 3"
   ]
  },
  {
   "cell_type": "code",
   "execution_count": 170,
   "metadata": {},
   "outputs": [],
   "source": [
    "problem_3_data = pyreadr.read_r('data/hw1prob3.Rdata')"
   ]
  },
  {
   "cell_type": "code",
   "execution_count": 288,
   "metadata": {},
   "outputs": [],
   "source": [
    "for k,v in problem_3_data.items():\n",
    "    if k == 'x':\n",
    "        x = pd.DataFrame(v)\n",
    "    if k == 'd':\n",
    "        distance = pd.DataFrame(v)"
   ]
  },
  {
   "cell_type": "code",
   "execution_count": 289,
   "metadata": {},
   "outputs": [
    {
     "data": {
      "text/html": [
       "<div>\n",
       "<style scoped>\n",
       "    .dataframe tbody tr th:only-of-type {\n",
       "        vertical-align: middle;\n",
       "    }\n",
       "\n",
       "    .dataframe tbody tr th {\n",
       "        vertical-align: top;\n",
       "    }\n",
       "\n",
       "    .dataframe thead th {\n",
       "        text-align: right;\n",
       "    }\n",
       "</style>\n",
       "<table border=\"1\" class=\"dataframe\">\n",
       "  <thead>\n",
       "    <tr style=\"text-align: right;\">\n",
       "      <th></th>\n",
       "      <th>0</th>\n",
       "      <th>1</th>\n",
       "    </tr>\n",
       "  </thead>\n",
       "  <tbody>\n",
       "    <tr>\n",
       "      <th>0</th>\n",
       "      <td>-0.313227</td>\n",
       "      <td>0.755891</td>\n",
       "    </tr>\n",
       "    <tr>\n",
       "      <th>1</th>\n",
       "      <td>0.091822</td>\n",
       "      <td>0.194922</td>\n",
       "    </tr>\n",
       "    <tr>\n",
       "      <th>2</th>\n",
       "      <td>-0.417814</td>\n",
       "      <td>-0.310620</td>\n",
       "    </tr>\n",
       "    <tr>\n",
       "      <th>3</th>\n",
       "      <td>0.797640</td>\n",
       "      <td>-1.107350</td>\n",
       "    </tr>\n",
       "    <tr>\n",
       "      <th>4</th>\n",
       "      <td>0.164754</td>\n",
       "      <td>0.562465</td>\n",
       "    </tr>\n",
       "  </tbody>\n",
       "</table>\n",
       "</div>"
      ],
      "text/plain": [
       "          0         1\n",
       "0 -0.313227  0.755891\n",
       "1  0.091822  0.194922\n",
       "2 -0.417814 -0.310620\n",
       "3  0.797640 -1.107350\n",
       "4  0.164754  0.562465"
      ]
     },
     "execution_count": 289,
     "metadata": {},
     "output_type": "execute_result"
    }
   ],
   "source": [
    "x.head()"
   ]
  },
  {
   "cell_type": "code",
   "execution_count": 307,
   "metadata": {},
   "outputs": [
    {
     "name": "stdout",
     "output_type": "stream",
     "text": [
      "yes\n"
     ]
    }
   ],
   "source": [
    "if isinstance(distances, pd.DataFrame):\n",
    "    print('yes')"
   ]
  },
  {
   "cell_type": "code",
   "execution_count": 332,
   "metadata": {},
   "outputs": [],
   "source": [
    "def h_cluster(data: pd.DataFrame, \n",
    "              linkage: str, \n",
    "              num_clusters: int, \n",
    "              metric: str = 'euclidean', \n",
    "              distances: pd.DataFrame = None,\n",
    "              figure_name: str = 'plot')-> None:\n",
    "    df = data.copy()\n",
    "    hclust = HClust(distance_threshold=0,n_clusters=None,metric=metric, linkage=linkage)\n",
    "    if isinstance(distances, pd.DataFrame):\n",
    "        hclust.fit(distances)\n",
    "    else:\n",
    "        hclust.fit(df)\n",
    "    linkage_matrix = compute_linkage(hclust)\n",
    "    data_labels = cut_tree(linkage_matrix,num_clusters)\n",
    "    df['cluster'] = data_labels\n",
    "    sns.scatterplot(x=df[0],y=df[1], hue=df['cluster'], palette = sns.color_palette(\"Set2\")[0:num_clusters])\n",
    "    plt.savefig('plots/{}.png'.format(figure_name))\n",
    "    \n",
    "    return None"
   ]
  },
  {
   "cell_type": "code",
   "execution_count": 314,
   "metadata": {},
   "outputs": [
    {
     "data": {
      "image/png": "[encoded data removed]",
      "text/plain": [
       "<Figure size 640x480 with 1 Axes>"
      ]
     },
     "metadata": {},
     "output_type": "display_data"
    }
   ],
   "source": [
    "h_cluster(data = x, linkage='single', num_clusters=4, figure_name='single_linkage')"
   ]
  },
  {
   "cell_type": "code",
   "execution_count": 315,
   "metadata": {},
   "outputs": [
    {
     "data": {
      "image/png": "[encoded data removed]",
      "text/plain": [
       "<Figure size 640x480 with 1 Axes>"
      ]
     },
     "metadata": {},
     "output_type": "display_data"
    }
   ],
   "source": [
    "h_cluster(data = x, linkage='complete', num_clusters=4, figure_name='complete_linkage')"
   ]
  },
  {
   "cell_type": "code",
   "execution_count": 295,
   "metadata": {},
   "outputs": [],
   "source": [
    "distances = pd.read_csv('data/distances.csv')\n",
    "distances = distances.drop(columns='Unnamed: 0', axis=1)"
   ]
  },
  {
   "cell_type": "code",
   "execution_count": 316,
   "metadata": {},
   "outputs": [
    {
     "data": {
      "image/png": "[encoded data removed]",
      "text/plain": [
       "<Figure size 640x480 with 1 Axes>"
      ]
     },
     "metadata": {},
     "output_type": "display_data"
    }
   ],
   "source": [
    "h_cluster(data = x, metric='precomputed', distances=distances**2, linkage='single', num_clusters=4, figure_name='single_squared')"
   ]
  },
  {
   "cell_type": "code",
   "execution_count": 317,
   "metadata": {},
   "outputs": [
    {
     "data": {
      "image/png": "[encoded data removed]",
      "text/plain": [
       "<Figure size 640x480 with 1 Axes>"
      ]
     },
     "metadata": {},
     "output_type": "display_data"
    }
   ],
   "source": [
    "h_cluster(data = x, metric='precomputed', distances=distances**2, linkage='complete', num_clusters=4, figure_name='complete_squared')"
   ]
  },
  {
   "cell_type": "code",
   "execution_count": 330,
   "metadata": {},
   "outputs": [
    {
     "data": {
      "image/png": "[encoded data removed]",
      "text/plain": [
       "<Figure size 640x480 with 1 Axes>"
      ]
     },
     "metadata": {},
     "output_type": "display_data"
    }
   ],
   "source": [
    "h_cluster(data = x, linkage='average', num_clusters=4, figure_name='average_linkage_4')"
   ]
  },
  {
   "cell_type": "code",
   "execution_count": 331,
   "metadata": {},
   "outputs": [
    {
     "data": {
      "image/png": "[encoded data removed]",
      "text/plain": [
       "<Figure size 640x480 with 1 Axes>"
      ]
     },
     "metadata": {},
     "output_type": "display_data"
    }
   ],
   "source": [
    "h_cluster(data = x, metric='precomputed', distances=distances**2, linkage='average', num_clusters=4, figure_name='average_squared_4')"
   ]
  },
  {
   "cell_type": "code",
   "execution_count": 333,
   "metadata": {},
   "outputs": [
    {
     "data": {
      "image/png": "[encoded data removed]",
      "text/plain": [
       "<Figure size 640x480 with 1 Axes>"
      ]
     },
     "metadata": {},
     "output_type": "display_data"
    }
   ],
   "source": [
    "h_cluster(data = x, linkage='average', num_clusters=3, figure_name='average_linkage_3')"
   ]
  },
  {
   "cell_type": "code",
   "execution_count": 334,
   "metadata": {},
   "outputs": [
    {
     "data": {
      "image/png": "[encoded data removed]",
      "text/plain": [
       "<Figure size 640x480 with 1 Axes>"
      ]
     },
     "metadata": {},
     "output_type": "display_data"
    }
   ],
   "source": [
    "h_cluster(data = x, metric='precomputed', distances=distances**2, linkage='average', num_clusters=3, figure_name='average_squared_3')"
   ]
  },
  {
   "cell_type": "code",
   "execution_count": null,
   "metadata": {},
   "outputs": [],
   "source": []
  }
 ],
 "metadata": {
  "kernelspec": {
   "display_name": ".venv",
   "language": "python",
   "name": "python3"
  },
  "language_info": {
   "codemirror_mode": {
    "name": "ipython",
    "version": 3
   },
   "file_extension": ".py",
   "mimetype": "text/x-python",
   "name": "python",
   "nbconvert_exporter": "python",
   "pygments_lexer": "ipython3",
   "version": "3.11.4"
  },
  "orig_nbformat": 4
 },
 "nbformat": 4,
 "nbformat_minor": 2
}
